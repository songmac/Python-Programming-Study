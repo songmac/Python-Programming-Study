{
  "cells": [
    {
      "cell_type": "markdown",
      "metadata": {
        "id": "rwYPgW8kITC1"
      },
      "source": [
        "# continue, break문 예제"
      ]
    },
    {
      "cell_type": "markdown",
      "metadata": {
        "id": "HTiX51BnISzF"
      },
      "source": [
        "## For문과 continue"
      ]
    },
    {
      "cell_type": "code",
      "execution_count": 3,
      "metadata": {
        "colab": {
          "base_uri": "https://localhost:8080/",
          "height": 0
        },
        "id": "Gm97Lx6fIbwt",
        "outputId": "6e16e2f9-4541-4d89-c733-ade3b52b41e1"
      },
      "outputs": [
        {
          "name": "stdout",
          "output_type": "stream",
          "text": [
            "1번 학생 축하합니다. 합격입니다.\n",
            "3번 학생 축하합니다. 합격입니다.\n",
            "5번 학생 축하합니다. 합격입니다.\n"
          ]
        }
      ],
      "source": [
        "# 학생들의 점수가 담긴 리스트에서 60점 이상인 학생만 합격으로 처리하고, 그렇지 않은 경우는 무시\n",
        "\n",
        "marks = [90, 25, 67, 45, 80]\n",
        "\n",
        "number = 0\n",
        "for mark in marks:\n",
        "    number += 1\n",
        "    if mark < 60:\n",
        "        continue\n",
        "    print(f\"{number}번 학생 축하합니다. 합격입니다.\")"
      ]
    },
    {
      "cell_type": "markdown",
      "metadata": {
        "id": "eGykVtVMI0T8"
      },
      "source": [
        "## For문과 break"
      ]
    },
    {
      "cell_type": "code",
      "execution_count": 1,
      "metadata": {
        "colab": {
          "base_uri": "https://localhost:8080/",
          "height": 0
        },
        "id": "3bAIU4W4IgI4",
        "outputId": "a419c903-4b76-4238-ffe2-f92e706bfb91"
      },
      "outputs": [
        {
          "name": "stdout",
          "output_type": "stream",
          "text": [
            "2번 학생에게 불합격 통지를 보냅니다.\n",
            "4번 학생에게 불합격 통지를 보냅니다.\n"
          ]
        }
      ],
      "source": [
        "# 학생들의 점수를 순차적으로 확인하다가, 첫 번째로 60점 미만인 학생을 만나면 반복을 중단\n",
        "\n",
        "marks = [90, 25, 67, 45, 80]\n",
        "\n",
        "number = 0\n",
        "for mark in marks:\n",
        "    number += 1\n",
        "    if mark < 60:\n",
        "        print(f\"{number}번 학생에게 불합격 통지를 보냅니다.\")\n",
        "        continue"
      ]
    },
    {
      "cell_type": "markdown",
      "metadata": {
        "id": "cymxYHm2IbeG"
      },
      "source": [
        "## While문과 continue\n",
        "\n"
      ]
    },
    {
      "cell_type": "code",
      "execution_count": 2,
      "metadata": {
        "colab": {
          "base_uri": "https://localhost:8080/",
          "height": 0
        },
        "id": "G7_0A6URIbGd",
        "outputId": "3c78f408-5439-4e73-95a9-7b4f4c32d903"
      },
      "outputs": [
        {
          "name": "stdout",
          "output_type": "stream",
          "text": [
            "1번 학생 축하합니다. 합격입니다.\n",
            "3번 학생 축하합니다. 합격입니다.\n",
            "5번 학생 축하합니다. 합격입니다.\n"
          ]
        }
      ],
      "source": [
        "marks = [90, 25, 67, 45, 80]\n",
        "\n",
        "number = 0\n",
        "index = 0\n",
        "while index < len(marks):\n",
        "    mark = marks[index]\n",
        "    number += 1\n",
        "    index += 1\n",
        "    if mark < 60:\n",
        "        continue\n",
        "    print(f\"{number}번 학생 축하합니다. 합격입니다.\")"
      ]
    },
    {
      "cell_type": "markdown",
      "metadata": {
        "id": "zUH1d8c_JEha"
      },
      "source": [
        "## While문과 break"
      ]
    },
    {
      "cell_type": "code",
      "execution_count": 7,
      "metadata": {
        "colab": {
          "base_uri": "https://localhost:8080/",
          "height": 0
        },
        "id": "02uXtyIjIgp0",
        "outputId": "d8b5c0fe-6e33-4199-c030-9827b0fbeb5e"
      },
      "outputs": [
        {
          "name": "stdout",
          "output_type": "stream",
          "text": [
            "2번 학생에게 불합격 통지를 보냅니다.\n"
          ]
        }
      ],
      "source": [
        "marks = [90, 25, 67, 45, 80]\n",
        "\n",
        "number = 0\n",
        "index = 0\n",
        "while index < len(marks):\n",
        "    mark = marks[index]\n",
        "    number += 1\n",
        "    index += 1\n",
        "    if mark < 60:\n",
        "        print(f\"{number}번 학생에게 불합격 통지를 보냅니다.\")\n",
        "        break"
      ]
    },
    {
      "cell_type": "markdown",
      "metadata": {
        "id": "PQfnP047dC3K"
      },
      "source": [
        "# 연습문제"
      ]
    },
    {
      "cell_type": "markdown",
      "metadata": {
        "id": "YOjM7aeMdJHE"
      },
      "source": [
        "## For문"
      ]
    },
    {
      "cell_type": "markdown",
      "metadata": {
        "id": "9ASa1H8NptL9"
      },
      "source": [
        "### 1-1번. for문을 이용하여 1부터 10까지 num 리스트에 추가하세요.\n"
      ]
    },
    {
      "cell_type": "code",
      "execution_count": null,
      "metadata": {
        "colab": {
          "base_uri": "https://localhost:8080/"
        },
        "id": "Dzxj2aDZdHFn",
        "outputId": "2ee70e8b-7d92-4cfa-e59a-cb96a1edea1c"
      },
      "outputs": [
        {
          "name": "stdout",
          "output_type": "stream",
          "text": [
            "[1]\n",
            "[1, 2]\n",
            "[1, 2, 3]\n",
            "[1, 2, 3, 4]\n",
            "[1, 2, 3, 4, 5]\n",
            "[1, 2, 3, 4, 5, 6]\n",
            "[1, 2, 3, 4, 5, 6, 7]\n",
            "[1, 2, 3, 4, 5, 6, 7, 8]\n",
            "[1, 2, 3, 4, 5, 6, 7, 8, 9]\n",
            "[1, 2, 3, 4, 5, 6, 7, 8, 9, 10]\n"
          ]
        }
      ],
      "source": [
        "num = []\n",
        "for i in range(1, 11):\n",
        "    num.append(i)\n",
        "    print(num)"
      ]
    },
    {
      "cell_type": "code",
      "execution_count": null,
      "metadata": {
        "colab": {
          "base_uri": "https://localhost:8080/"
        },
        "id": "1IVQpmm4qaxC",
        "outputId": "5103ebd6-84f8-440a-ee45-1fd1125154bb"
      },
      "outputs": [
        {
          "data": {
            "text/plain": [
              "[1, 2, 3, 4, 5, 6, 7, 8, 9, 10]"
            ]
          },
          "execution_count": 21,
          "metadata": {},
          "output_type": "execute_result"
        }
      ],
      "source": [
        "num = [i for i in range(1,11)]\n",
        "num"
      ]
    },
    {
      "cell_type": "markdown",
      "metadata": {
        "id": "7qIxDEL3u5qK"
      },
      "source": [
        "### 1-2번. for문을 이용하여 10부터 1까지 역순으로 reverse_num 리스트에 추가하세요."
      ]
    },
    {
      "cell_type": "code",
      "execution_count": null,
      "metadata": {
        "colab": {
          "base_uri": "https://localhost:8080/"
        },
        "id": "oye4wIaZvMYF",
        "outputId": "b48b576d-569a-4f70-a39a-df0452961221"
      },
      "outputs": [
        {
          "name": "stdout",
          "output_type": "stream",
          "text": [
            "[10]\n",
            "[10, 9]\n",
            "[10, 9, 8]\n",
            "[10, 9, 8, 7]\n",
            "[10, 9, 8, 7, 6]\n",
            "[10, 9, 8, 7, 6, 5]\n",
            "[10, 9, 8, 7, 6, 5, 4]\n",
            "[10, 9, 8, 7, 6, 5, 4, 3]\n",
            "[10, 9, 8, 7, 6, 5, 4, 3, 2]\n",
            "[10, 9, 8, 7, 6, 5, 4, 3, 2, 1]\n"
          ]
        }
      ],
      "source": [
        "reverse_num = []\n",
        "for i in range(10, 0, -1):\n",
        "    reverse_num.append(i)\n",
        "    print(reverse_num)"
      ]
    },
    {
      "cell_type": "code",
      "execution_count": null,
      "metadata": {
        "colab": {
          "base_uri": "https://localhost:8080/"
        },
        "id": "XiXTF-nevkLN",
        "outputId": "c926dafc-a5b9-41d6-ef6e-f3eac2ca4977"
      },
      "outputs": [
        {
          "data": {
            "text/plain": [
              "[10, 9, 8, 7, 6, 5, 4, 3, 2, 1]"
            ]
          },
          "execution_count": 25,
          "metadata": {},
          "output_type": "execute_result"
        }
      ],
      "source": [
        "num = [i for i in range(10, 0, -1)]\n",
        "num"
      ]
    },
    {
      "cell_type": "markdown",
      "metadata": {
        "id": "ukGPenCyxDPv"
      },
      "source": [
        "### 2. for문을 이용하여 'Orange' 문자열을 한칸씩 공백을 두고 차례로 출력하세요."
      ]
    },
    {
      "cell_type": "code",
      "execution_count": null,
      "metadata": {
        "colab": {
          "base_uri": "https://localhost:8080/"
        },
        "id": "vM_lUSkQxXnM",
        "outputId": "abb60842-dbe9-4831-d89c-2bfbc3b8f89e"
      },
      "outputs": [
        {
          "name": "stdout",
          "output_type": "stream",
          "text": [
            "O r a n g e "
          ]
        }
      ],
      "source": [
        "for i in 'Orange':\n",
        "    print(i, end=' ')"
      ]
    },
    {
      "cell_type": "code",
      "execution_count": null,
      "metadata": {
        "id": "9C0N14k5xnEg"
      },
      "outputs": [],
      "source": [
        "word = 'Orange'\n",
        "\n",
        "result = \"\"\n",
        "for char in word:\n",
        "    result += char + \" \"\n"
      ]
    },
    {
      "cell_type": "markdown",
      "metadata": {
        "id": "EuqFrME2zWLQ"
      },
      "source": [
        "### 3. for문을 이용하여 info 딕셔너리의 key, value를 아래와 같이 출력하세요.\n",
        "\n",
        "- 딕셔너리 </br>\n",
        "info = {'name':'tom', 'math':80, 'english':70}\n",
        "\n",
        "- 출력 화면 </br>\n",
        "name:tom </br>\n",
        "math:80 </br>\n",
        "english:70 </br>"
      ]
    },
    {
      "cell_type": "code",
      "execution_count": null,
      "metadata": {
        "colab": {
          "base_uri": "https://localhost:8080/"
        },
        "id": "-A5KBfiHyxvf",
        "outputId": "f5603efa-112b-47ab-d18d-0386cad226e3"
      },
      "outputs": [
        {
          "name": "stdout",
          "output_type": "stream",
          "text": [
            "name:tom\n",
            "math:80\n",
            "english:70\n"
          ]
        }
      ],
      "source": [
        "info = {\"name\":\"tom\", \"math\":80, \"english\":70}\n",
        "for i in info:\n",
        "    print(i, end=\":\") # key 출력\n",
        "    print(info[i]) # value 출력"
      ]
    },
    {
      "cell_type": "code",
      "execution_count": null,
      "metadata": {
        "colab": {
          "base_uri": "https://localhost:8080/"
        },
        "id": "YMoFGIUI0qyy",
        "outputId": "59886d65-2d7c-48e2-caa1-dc3e09e40f78"
      },
      "outputs": [
        {
          "name": "stdout",
          "output_type": "stream",
          "text": [
            "name:tom\n",
            "math:80\n",
            "english:70\n"
          ]
        }
      ],
      "source": [
        "info = {'name': 'tom', 'math': 80, 'english': 70}\n",
        "\n",
        "for key, value in info.items(): #.items()는 딕셔너리 객체의 메서드\n",
        "    print(f\"{key}:{value}\")"
      ]
    },
    {
      "cell_type": "markdown",
      "metadata": {
        "id": "YOTkGO0I2sL7"
      },
      "source": [
        "### 4-1. for문을 이용하여 fruits 리스트의 요소를 차례로 출력하세요.\n",
        "\n",
        "- 리스트 </br>\n",
        "fruits = ['딸기', '당근', '수박', '참외', '메론']\n",
        "\n"
      ]
    },
    {
      "cell_type": "code",
      "execution_count": null,
      "metadata": {
        "colab": {
          "base_uri": "https://localhost:8080/"
        },
        "id": "PCv7moDc3PBj",
        "outputId": "5491e077-f6b8-4b4d-adc9-86bb4eeb6847"
      },
      "outputs": [
        {
          "name": "stdout",
          "output_type": "stream",
          "text": [
            "딸기\n",
            "당근\n",
            "수박\n",
            "참외\n",
            "메론\n"
          ]
        }
      ],
      "source": [
        "fruits = ['딸기', '당근', '수박', '참외', '메론']\n",
        "\n",
        "for fruit in fruits:\n",
        "  print(fruit)"
      ]
    },
    {
      "cell_type": "markdown",
      "metadata": {
        "id": "5vtbU9W-4BXh"
      },
      "source": [
        "### 4-2. for문과 enumerate를 이용하여 fruits 리스트의 각 인덱스와 요소를 함께 출력하세요.\n",
        "\n",
        "- 출력 화면</br>\n",
        "1:딸기\n",
        "2:당근\n",
        "3:수박\n",
        "4:참외\n",
        "5:메론"
      ]
    },
    {
      "cell_type": "code",
      "execution_count": null,
      "metadata": {
        "colab": {
          "base_uri": "https://localhost:8080/"
        },
        "id": "tzXy7be33rVK",
        "outputId": "4189f324-5ee8-4cb2-b704-4e056805f04c"
      },
      "outputs": [
        {
          "name": "stdout",
          "output_type": "stream",
          "text": [
            "0:딸기\n",
            "1:당근\n",
            "2:수박\n",
            "3:참외\n",
            "4:메론\n"
          ]
        }
      ],
      "source": [
        "fruits = ['딸기', '당근', '수박', '참외', '메론']\n",
        "\n",
        "for idx, val in enumerate(fruits):\n",
        "    print(idx, val, sep=\":\")\n"
      ]
    },
    {
      "cell_type": "markdown",
      "metadata": {
        "id": "6UhAJeeu5gql"
      },
      "source": [
        "### 5. for문을 사용하여 입력한 숫자 만큼 '바보'를 출력하세요.  \n",
        "\n"
      ]
    },
    {
      "cell_type": "code",
      "execution_count": 1,
      "metadata": {
        "colab": {
          "base_uri": "https://localhost:8080/"
        },
        "id": "gEm7vb2p5BgX",
        "outputId": "4f70d482-1b76-4edd-bb6e-fe80dcc7ddd8"
      },
      "outputs": [
        {
          "name": "stdout",
          "output_type": "stream",
          "text": [
            "바보\n",
            "바보\n",
            "바보\n"
          ]
        }
      ],
      "source": [
        "count = int(input('숫자 입력: '))\n",
        "for i in range(count):\n",
        "    print('바보')\n"
      ]
    },
    {
      "cell_type": "markdown",
      "metadata": {
        "id": "Q6F_JlWR6rlX"
      },
      "source": [
        "### 6. for문을 이중으로 사용하여 다음과 같이 출력 화면을 완성하세요.\n",
        "\n",
        "- 출력 화면 </br>\n",
        "  1</br>\n",
        "  22</br>\n",
        "  333</br>\n",
        "  4444</br>\n",
        "  55555</br>\n",
        "  666666</br>\n",
        "  7777777</br>\n",
        "  88888888</br>\n",
        "  999999999</br>\n",
        "\n",
        "\n"
      ]
    },
    {
      "cell_type": "code",
      "execution_count": 2,
      "metadata": {
        "colab": {
          "base_uri": "https://localhost:8080/"
        },
        "id": "WPk3pWIe5_sB",
        "outputId": "0fb7c62e-1aca-4971-acc4-9616e3244ce8"
      },
      "outputs": [
        {
          "name": "stdout",
          "output_type": "stream",
          "text": [
            "1\n",
            "22\n",
            "333\n",
            "4444\n",
            "55555\n",
            "666666\n",
            "7777777\n",
            "88888888\n",
            "999999999\n"
          ]
        }
      ],
      "source": [
        "for i in range(1, 10): # 10-1 = 9\n",
        "    for j in range(1, i+1): \n",
        "        print(i, end='')\n",
        "    print()"
      ]
    },
    {
      "cell_type": "markdown",
      "metadata": {
        "id": "P_6HvWKK60Ao"
      },
      "source": [
        "## While문"
      ]
    },
    {
      "cell_type": "markdown",
      "metadata": {
        "id": "M4_tYOKO-kzh"
      },
      "source": [
        "### 1. while문을 사용하여 1부터 10까지 num 리스트에 추가하세요."
      ]
    },
    {
      "cell_type": "code",
      "execution_count": null,
      "metadata": {
        "colab": {
          "base_uri": "https://localhost:8080/"
        },
        "id": "hlJJyGAs-jKX",
        "outputId": "a03ea7b3-bd70-465a-8b1a-30d8c2499a96"
      },
      "outputs": [
        {
          "name": "stdout",
          "output_type": "stream",
          "text": [
            "[1]\n",
            "[1, 2]\n",
            "[1, 2, 3]\n",
            "[1, 2, 3, 4]\n",
            "[1, 2, 3, 4, 5]\n",
            "[1, 2, 3, 4, 5, 6]\n",
            "[1, 2, 3, 4, 5, 6, 7]\n",
            "[1, 2, 3, 4, 5, 6, 7, 8]\n",
            "[1, 2, 3, 4, 5, 6, 7, 8, 9]\n",
            "[1, 2, 3, 4, 5, 6, 7, 8, 9, 10]\n"
          ]
        }
      ],
      "source": [
        "num = []\n",
        "\n",
        "i = 1\n",
        "while i < 11:\n",
        "    num.append(i)\n",
        "    i += 1\n",
        "    print(num)\n"
      ]
    },
    {
      "cell_type": "markdown",
      "metadata": {
        "id": "eSawblZX_eG8"
      },
      "source": [
        "### 2-1. while문을 사용하여 입력한 숫자만큼 '바보'를 출력하세요."
      ]
    },
    {
      "cell_type": "code",
      "execution_count": null,
      "metadata": {
        "colab": {
          "base_uri": "https://localhost:8080/"
        },
        "id": "zwuPr6Gc--W6",
        "outputId": "f54501e8-7005-4303-e641-1c2118240d6c"
      },
      "outputs": [
        {
          "name": "stdout",
          "output_type": "stream",
          "text": [
            "숫자 입력:3\n",
            "바보\n",
            "바보\n",
            "바보\n"
          ]
        }
      ],
      "source": [
        "count = int(input('숫자 입력:'))\n",
        "\n",
        "i = 0\n",
        "while i < count:\n",
        "    print(\"바보\")\n",
        "    i += 1\n"
      ]
    },
    {
      "cell_type": "markdown",
      "metadata": {
        "id": "j7ms7k33_9Ys"
      },
      "source": [
        "### 2-2. while문을 사용하여 지정한 숫자를 입력하면 반복을 중단시키세요."
      ]
    },
    {
      "cell_type": "code",
      "execution_count": null,
      "metadata": {
        "colab": {
          "base_uri": "https://localhost:8080/"
        },
        "id": "s7_6qu63_5Pb",
        "outputId": "9d3981e9-b0c7-4357-ceb4-c1e3d82ad67f"
      },
      "outputs": [
        {
          "name": "stdout",
          "output_type": "stream",
          "text": [
            "5를 입력하면 반복이 중단됩니다. :2\n",
            "5를 입력하면 반복이 중단됩니다. :1\n",
            "5를 입력하면 반복이 중단됩니다. :2\n",
            "5를 입력하면 반복이 중단됩니다. :1\n",
            "5를 입력하면 반복이 중단됩니다. :5\n",
            "중단!\n"
          ]
        }
      ],
      "source": [
        "i = 0\n",
        "while i != 5:\n",
        "    i = int(input(\"5를 입력하면 반복이 중단됩니다. :\"))\n",
        "print(\"중단!\")\n"
      ]
    },
    {
      "cell_type": "markdown",
      "metadata": {
        "id": "7j_d1ysdDXOb"
      },
      "source": [
        "# 활용 문제"
      ]
    },
    {
      "cell_type": "markdown",
      "metadata": {
        "id": "o5YFfdalDZk-"
      },
      "source": [
        "## For문"
      ]
    },
    {
      "cell_type": "markdown",
      "metadata": {
        "id": "gOClnTwWDm1b"
      },
      "source": [
        "### 1. 숫자를 입력받고 난 후, 입력받은 정수의 구구단을 출력하세요.\n"
      ]
    },
    {
      "cell_type": "code",
      "execution_count": null,
      "metadata": {
        "colab": {
          "base_uri": "https://localhost:8080/"
        },
        "id": "PmDiHmoSDWr_",
        "outputId": "21149100-eae1-4ac3-d491-b8df05f71a9e"
      },
      "outputs": [
        {
          "name": "stdout",
          "output_type": "stream",
          "text": [
            "몇단을 출력하시겠습니까? 3\n",
            "3 * 1 = 3\n",
            "3 * 2 = 6\n",
            "3 * 3 = 9\n",
            "3 * 4 = 12\n",
            "3 * 5 = 15\n",
            "3 * 6 = 18\n",
            "3 * 7 = 21\n",
            "3 * 8 = 24\n",
            "3 * 9 = 27\n"
          ]
        }
      ],
      "source": [
        "num = int(input(\"몇단을 출력하시겠습니까? \"))\n",
        "\n",
        "for i in range(1, 10) :\n",
        "    result = i * num\n",
        "    print(\"{} * {} = {}\".format(num, i, result))"
      ]
    },
    {
      "cell_type": "markdown",
      "metadata": {
        "id": "COuqO6lXECZY"
      },
      "source": [
        "### 2. word = [\"school\", \"game\", \"piano\", \"Science\", \"hotel\", \"mountain\"] 중 글자수가 6글자 이상인 문자를 모아 새로운 리스트를 생성하세요.\n"
      ]
    },
    {
      "cell_type": "code",
      "execution_count": 5,
      "metadata": {
        "colab": {
          "base_uri": "https://localhost:8080/"
        },
        "id": "C0yjr0oBD-OK",
        "outputId": "2b5a2e23-e810-4222-8c16-c2f04908b4bf"
      },
      "outputs": [
        {
          "name": "stdout",
          "output_type": "stream",
          "text": [
            "['school', 'Science', 'mountain']\n"
          ]
        }
      ],
      "source": [
        "word = [\"school\", \"game\", \"piano\", \"Science\", \"hotel\", \"mountain\"]\n",
        "\n",
        "new_list = []\n",
        "\n",
        "for i in word : \n",
        "    if 6 <= len(i) : # len : 문자열의 길이\n",
        "        new_list.append(i) # append : 나열\n",
        "    else :\n",
        "        pass\n",
        "\n",
        "print(new_list)\n"
      ]
    },
    {
      "cell_type": "markdown",
      "metadata": {
        "id": "9dioRJRJDbDN"
      },
      "source": [
        "## While 문"
      ]
    },
    {
      "cell_type": "markdown",
      "metadata": {
        "id": "3CMtUikIEC9q"
      },
      "source": [
        "### 1.사용자로부터 숫자를 계속 입력받다가 0을 입력하면 합계를 출력해주세요."
      ]
    },
    {
      "cell_type": "code",
      "execution_count": null,
      "metadata": {
        "colab": {
          "base_uri": "https://localhost:8080/"
        },
        "id": "m5KQstwfD_AU",
        "outputId": "f3d4da99-0689-4077-ad2d-5cc8c86dae12"
      },
      "outputs": [
        {
          "name": "stdout",
          "output_type": "stream",
          "text": [
            "값을 입력해주세요 : 12\n",
            "값을 입력해주세요 : 3\n",
            "값을 입력해주세요 : 1\n",
            "값을 입력해주세요 : 4\n",
            "값을 입력해주세요 : 0\n",
            "합계는?  20\n"
          ]
        }
      ],
      "source": [
        "sum = 0\n",
        "i = 1\n",
        "\n",
        "while i != 0:\n",
        "    i = int(input(\"값을 입력해주세요 : \"))\n",
        "    sum += i\n",
        "\n",
        "print(\"합계는? \", sum)"
      ]
    },
    {
      "cell_type": "markdown",
      "metadata": {
        "id": "Atcx6oq_EDQ-"
      },
      "source": [
        "### 2. 컴퓨터와 가위바위보를 하는 게임을 만들어 보세요. </br>(단, 사용자로부터 계속 입력 받다가 0을 입력하면 게임을 종료하고, 컴퓨터는 랜덤으로 가위, 바위, 보를 냅니다.)\n",
        "\n"
      ]
    },
    {
      "cell_type": "code",
      "execution_count": null,
      "metadata": {
        "colab": {
          "base_uri": "https://localhost:8080/"
        },
        "id": "xFOxTjc8D-4Q",
        "outputId": "5b2d148e-0f86-4489-dd46-9774e02d3663"
      },
      "outputs": [
        {
          "name": "stdout",
          "output_type": "stream",
          "text": [
            "가위(1), 바위(2), 보(3) 을 입력해주세요 : 3\n",
            "유저 : 3, 컴퓨터 : 1\n",
            "가위(1), 바위(2), 보(3) 을 입력해주세요 : 2\n",
            "유저 : 2, 컴퓨터 : 2\n",
            "가위(1), 바위(2), 보(3) 을 입력해주세요 : 1\n",
            "유저 : 1, 컴퓨터 : 3\n",
            "가위(1), 바위(2), 보(3) 을 입력해주세요 : 3\n",
            "유저 : 3, 컴퓨터 : 3\n",
            "가위(1), 바위(2), 보(3) 을 입력해주세요 : 2\n",
            "유저 : 2, 컴퓨터 : 1\n",
            "가위(1), 바위(2), 보(3) 을 입력해주세요 : 1\n",
            "유저 : 1, 컴퓨터 : 3\n",
            "가위(1), 바위(2), 보(3) 을 입력해주세요 : 0\n",
            "유저 : 0, 컴퓨터 : 2\n",
            "게임종료 (전체:7, 승리:3)\n"
          ]
        }
      ],
      "source": [
        "import random\n",
        "\n",
        "all_cnt = 0  # 전체 게임 횟수\n",
        "win_cnt = 0  # 승리 횟수\n",
        "\n",
        "i = None  # 사용자의 입력을 저장할 변수, 초기값을 None으로 설정\n",
        "\n",
        "# 사용자가 0을 입력할 때까지 게임을 계속 진행\n",
        "while i != 0:\n",
        "    i = int(input(\"가위(1), 바위(2), 보(3) 을 입력해주세요 (게임 종료는 0): \"))\n",
        "    if i == 0:  # 사용자가 0을 입력한 경우 게임 종료\n",
        "        break  # while 루프 종료\n",
        "\n",
        "    j = random.randint(1,3)  # 컴퓨터의 선택 (1: 가위, 2: 바위, 3: 보)\n",
        "    print(f\"유저 : {i}, 컴퓨터 : {j}\")\n",
        "    all_cnt += 1  # 게임 횟수 증가\n",
        "\n",
        "    # 승리 조건 검사\n",
        "    if ((i == 1)and(j == 3)) or ((i == 2)and(j == 1)) or ((i == 3)and(j == 2)):\n",
        "        win_cnt += 1  # 승리 횟수 증가\n",
        "\n",
        "# 게임이 종료되면 결과 출력\n",
        "print(f\"게임종료 (전체:{all_cnt}, 승리:{win_cnt})\")\n"
      ]
    }
  ],
  "metadata": {
    "colab": {
      "provenance": []
    },
    "kernelspec": {
      "display_name": "Python 3 (ipykernel)",
      "language": "python",
      "name": "python3"
    },
    "language_info": {
      "codemirror_mode": {
        "name": "ipython",
        "version": 3
      },
      "file_extension": ".py",
      "mimetype": "text/x-python",
      "name": "python",
      "nbconvert_exporter": "python",
      "pygments_lexer": "ipython3",
      "version": "3.11.5"
    }
  },
  "nbformat": 4,
  "nbformat_minor": 0
}
