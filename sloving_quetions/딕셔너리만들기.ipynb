{
 "cells": [
  {
   "cell_type": "markdown",
   "metadata": {},
   "source": [
    "1. 이름, 나이 연락처를 입력받아 딕셔너리를 만들어 출력해주세요.\n",
    "\n",
    "- 실행\n",
    "    - 이름을 입력해주세요 : 홍길동\n",
    "    - 나이를 입력해주세요 : 27\n",
    "    - 연락처를 입력해주세요 : 010-XXXX-YYYY\n",
    "- 결과\n",
    "    - {\"이름\":\"홍길동\", \"나이\":\"27\", \"연락처\":\"010-XXXX-YYYY\"}"
   ]
  },
  {
   "cell_type": "code",
   "execution_count": 1,
   "metadata": {},
   "outputs": [
    {
     "name": "stdout",
     "output_type": "stream",
     "text": [
      "{'이름': '홍길동', '나이': '27', '연락처': '010-XXXX-YYYY'}\n"
     ]
    }
   ],
   "source": [
    "name = input(\"이름을 입력해주세요 : \")\n",
    "age = input(\"나이를 입력해주세요 : \")\n",
    "tel = input(\"연락처를 입력해주세요 : \")\n",
    "\n",
    "dict_list = {\"이름\":name, \"나이\":age, \"연락처\":tel}\n",
    "print(dict_list)"
   ]
  },
  {
   "cell_type": "markdown",
   "metadata": {},
   "source": [
    "2. 두사람의 이름, 나이 연락처를 입력받아 딕셔너리를 만들어 리스트에 넣어주세요.\n",
    "\n",
    "- 실행\n",
    "    - 이름을 입력해주세요 : 홍길동\n",
    "    - 나이를 입력해주세요 : 27\n",
    "    - 연락처를 입력해주세요 : 010-XXXX-YYYY\n",
    "    - 이름을 입력해주세요 : 이몽룡\n",
    "    - 나이를 입력해주세요 : 30\n",
    "    - 연락처를 입력해주세요 : 010-UUUU-ZZZZ\n",
    "- 결과\n",
    "    - [{\"이름\":\"홍길동\", \"나이\":\"27\", \"연락처\":\"010-XXXX-YYYY\"},\n",
    "      {\"이름\":\"이몽룡\", \"나이\":\"30\", \"연락처\":\"010-UUUU-ZZZZ\"}]"
   ]
  },
  {
   "cell_type": "code",
   "execution_count": 10,
   "metadata": {},
   "outputs": [
    {
     "name": "stdout",
     "output_type": "stream",
     "text": [
      "[{'이름': '홍길동', '나이': '26', '연락처': '2123'}, {'이름': '이몽룡', '나이': '30', '연락처': '1234'}]\n"
     ]
    }
   ],
   "source": [
    "dict_list = []\n",
    "\n",
    "for i in range(2) :\n",
    "    name = input(\"이름을 입력해주세요 : \")\n",
    "    age = input(\"나이를 입력해주세요 : \")\n",
    "    tel = input(\"연락처를 입력해주세요 : \")\n",
    "\n",
    "    dict_list.append({\"이름\":name, \"나이\":age, \"연락처\":tel}) # 하나의 리스트에 순차적으로 저장\n",
    "\n",
    "print(dict_list)"
   ]
  }
 ],
 "metadata": {
  "kernelspec": {
   "display_name": "base",
   "language": "python",
   "name": "python3"
  },
  "language_info": {
   "codemirror_mode": {
    "name": "ipython",
    "version": 3
   },
   "file_extension": ".py",
   "mimetype": "text/x-python",
   "name": "python",
   "nbconvert_exporter": "python",
   "pygments_lexer": "ipython3",
   "version": "3.11.4"
  }
 },
 "nbformat": 4,
 "nbformat_minor": 2
}
