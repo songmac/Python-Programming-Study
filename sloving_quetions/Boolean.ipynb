{
 "cells": [
  {
   "cell_type": "markdown",
   "metadata": {},
   "source": [
    "사용자로부터 점수를 3개 입력받아 모든 점수가 65점보다 클 경우 True,\n",
    "점수가 하나라도 65점이 안넘을경우 False를 출력하세요."
   ]
  },
  {
   "cell_type": "markdown",
   "metadata": {},
   "source": [
    "- 실행 1\n",
    "    - 첫번째 점수 : 20\n",
    "    - 두번째 점수 : 70\n",
    "    - 세번째 점수 : 80\n",
    "    - 결과 1 : False\n",
    "\n",
    "- 실행 2\n",
    "    - 첫번째 점수 : 70\n",
    "    - 두번째 점수 : 80\n",
    "    - 세번째 점수 : 90\n",
    "    - 결과 2 : True"
   ]
  },
  {
   "cell_type": "code",
   "execution_count": 1,
   "metadata": {},
   "outputs": [
    {
     "name": "stdout",
     "output_type": "stream",
     "text": [
      "True\n"
     ]
    }
   ],
   "source": [
    "x = int(input(\"첫번째 점수: \"))\n",
    "y = int(input(\"두번째 점수: \"))\n",
    "z = int(input(\"세번째 점수: \"))\n",
    "\n",
    "print((x > 65) & (y > 65) & (z > 65))"
   ]
  },
  {
   "cell_type": "code",
   "execution_count": null,
   "metadata": {},
   "outputs": [],
   "source": []
  }
 ],
 "metadata": {
  "kernelspec": {
   "display_name": "base",
   "language": "python",
   "name": "python3"
  },
  "language_info": {
   "codemirror_mode": {
    "name": "ipython",
    "version": 3
   },
   "file_extension": ".py",
   "mimetype": "text/x-python",
   "name": "python",
   "nbconvert_exporter": "python",
   "pygments_lexer": "ipython3",
   "version": "3.11.4"
  }
 },
 "nbformat": 4,
 "nbformat_minor": 2
}
