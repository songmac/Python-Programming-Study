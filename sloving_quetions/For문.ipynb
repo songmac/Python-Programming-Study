{
 "cells": [
  {
   "cell_type": "markdown",
   "metadata": {},
   "source": [
    "1. x = [3, 6, 9, 20, -7, 5] 의 값의 모든 요소에 10을 곱하여 저장한 뒤 출력하세요."
   ]
  },
  {
   "cell_type": "code",
   "execution_count": 1,
   "metadata": {},
   "outputs": [
    {
     "name": "stdout",
     "output_type": "stream",
     "text": [
      "[30, 60, 90, 200, -70, 50]\n"
     ]
    }
   ],
   "source": [
    "x = [3, 6, 9, 20, -7, 5] \n",
    "new_x = []\n",
    "for i in x:\n",
    "    new_x.append(i*10)\n",
    "print(new_x)"
   ]
  },
  {
   "cell_type": "markdown",
   "metadata": {},
   "source": [
    "2. y = {\"math\":70, \"Science\":80, \"english\":20}의 값의 모든 요소에 10을 더하여 저장한 뒤 출력하세요."
   ]
  },
  {
   "cell_type": "code",
   "execution_count": 7,
   "metadata": {},
   "outputs": [
    {
     "name": "stdout",
     "output_type": "stream",
     "text": [
      "{'math': 80, 'Science': 90, 'english': 30}\n"
     ]
    }
   ],
   "source": [
    "y = {\"math\":70, \"Science\":80, \"english\":20}\n",
    "\n",
    "for i in y:\n",
    "    y[i] = y[i]+10\n",
    "print(y)"
   ]
  },
  {
   "cell_type": "markdown",
   "metadata": {},
   "source": [
    "3. 숫자를 입력받고 입력받은 정수의 구구단을 출력하세요."
   ]
  },
  {
   "cell_type": "code",
   "execution_count": 8,
   "metadata": {},
   "outputs": [
    {
     "name": "stdout",
     "output_type": "stream",
     "text": [
      "3 * 1 = 3\n",
      "3 * 2 = 6\n",
      "3 * 3 = 9\n",
      "3 * 4 = 12\n",
      "3 * 5 = 15\n",
      "3 * 6 = 18\n",
      "3 * 7 = 21\n",
      "3 * 8 = 24\n",
      "3 * 9 = 27\n"
     ]
    }
   ],
   "source": [
    "num = int(input(\"몇단을 출력하시겠습니까? \"))\n",
    "\n",
    "for i in range(1, 10) :\n",
    "    result = i * num \n",
    "    print(\"{} * {} = {}\".format(num, i, result))\n"
   ]
  },
  {
   "cell_type": "markdown",
   "metadata": {},
   "source": [
    "4. word = [\"school\", \"game\", \"piano\", \"Science\", \"hotel\", \"mountain\"] 중 글자수가 6글자 이상인 문자를 모아 새로운 리스트를 생성하세요."
   ]
  },
  {
   "cell_type": "code",
   "execution_count": 9,
   "metadata": {},
   "outputs": [
    {
     "name": "stdout",
     "output_type": "stream",
     "text": [
      "['school', 'Science', 'mountain']\n"
     ]
    }
   ],
   "source": [
    "word = [\"school\", \"game\", \"piano\", \"Science\", \"hotel\", \"mountain\"] \n",
    "\n",
    "new_list = []\n",
    "for i in word :\n",
    "    if 6 <= len(i) :\n",
    "        new_list.append(i)\n",
    "    else :\n",
    "        pass\n",
    "\n",
    "print(new_list)\n"
   ]
  },
  {
   "cell_type": "markdown",
   "metadata": {},
   "source": [
    "5. 구구단을 1단부터 9단까지 출력하세요."
   ]
  },
  {
   "cell_type": "code",
   "execution_count": 10,
   "metadata": {},
   "outputs": [
    {
     "name": "stdout",
     "output_type": "stream",
     "text": [
      "1*1=1\n",
      "1*2=2\n",
      "1*3=3\n",
      "1*4=4\n",
      "1*5=5\n",
      "1*6=6\n",
      "1*7=7\n",
      "1*8=8\n",
      "1*9=9\n",
      "2*1=2\n",
      "2*2=4\n",
      "2*3=6\n",
      "2*4=8\n",
      "2*5=10\n",
      "2*6=12\n",
      "2*7=14\n",
      "2*8=16\n",
      "2*9=18\n",
      "3*1=3\n",
      "3*2=6\n",
      "3*3=9\n",
      "3*4=12\n",
      "3*5=15\n",
      "3*6=18\n",
      "3*7=21\n",
      "3*8=24\n",
      "3*9=27\n",
      "4*1=4\n",
      "4*2=8\n",
      "4*3=12\n",
      "4*4=16\n",
      "4*5=20\n",
      "4*6=24\n",
      "4*7=28\n",
      "4*8=32\n",
      "4*9=36\n",
      "5*1=5\n",
      "5*2=10\n",
      "5*3=15\n",
      "5*4=20\n",
      "5*5=25\n",
      "5*6=30\n",
      "5*7=35\n",
      "5*8=40\n",
      "5*9=45\n",
      "6*1=6\n",
      "6*2=12\n",
      "6*3=18\n",
      "6*4=24\n",
      "6*5=30\n",
      "6*6=36\n",
      "6*7=42\n",
      "6*8=48\n",
      "6*9=54\n",
      "7*1=7\n",
      "7*2=14\n",
      "7*3=21\n",
      "7*4=28\n",
      "7*5=35\n",
      "7*6=42\n",
      "7*7=49\n",
      "7*8=56\n",
      "7*9=63\n",
      "8*1=8\n",
      "8*2=16\n",
      "8*3=24\n",
      "8*4=32\n",
      "8*5=40\n",
      "8*6=48\n",
      "8*7=56\n",
      "8*8=64\n",
      "8*9=72\n",
      "9*1=9\n",
      "9*2=18\n",
      "9*3=27\n",
      "9*4=36\n",
      "9*5=45\n",
      "9*6=54\n",
      "9*7=63\n",
      "9*8=72\n",
      "9*9=81\n"
     ]
    }
   ],
   "source": [
    "for i in range(1, 10):\n",
    "    for j in range(1, 10):\n",
    "        print(f\"{i}*{j}={i*j}\")"
   ]
  },
  {
   "cell_type": "markdown",
   "metadata": {},
   "source": [
    "6. [3, 6, 9, 20, -7, 5] 리스트를 sort와 같은 함수를 사용하지말고 for문을 활용하여 오름차순으로 정렬해주세요."
   ]
  },
  {
   "cell_type": "code",
   "execution_count": 25,
   "metadata": {},
   "outputs": [
    {
     "name": "stdout",
     "output_type": "stream",
     "text": [
      "[-7, 3, 5, 6, 9, 20]\n"
     ]
    }
   ],
   "source": [
    "# 선택 정렬\n",
    "\n",
    "origin_list = [3, 6, 9, 20, -7, 5]\n",
    "\n",
    "for i in range(len(origin_list)):\n",
    "    \n",
    "    min_index = i\n",
    "    for j in range(i+1, len(origin_list)):\n",
    "        if origin_list[j] < origin_list[min_index]:\n",
    "            min_index = j\n",
    "\n",
    "    origin_list[i], origin_list[min_index] = origin_list[min_index], origin_list[i]\n",
    "   \n",
    "print(origin_list)"
   ]
  },
  {
   "cell_type": "code",
   "execution_count": 13,
   "metadata": {},
   "outputs": [
    {
     "name": "stdout",
     "output_type": "stream",
     "text": [
      "i의 min_index : 0, origin_list : [3, 6, 9, 20, -7, 5]\n",
      "-> j의 min_index : 4, origin_list : [-7, 6, 9, 20, 3, 5]\n",
      "i의 min_index : 1, origin_list : [-7, 6, 9, 20, 3, 5]\n",
      "-> j의 min_index : 4, origin_list : [-7, 3, 9, 20, 6, 5]\n",
      "i의 min_index : 2, origin_list : [-7, 3, 9, 20, 6, 5]\n",
      "-> j의 min_index : 5, origin_list : [-7, 3, 5, 20, 6, 9]\n",
      "i의 min_index : 3, origin_list : [-7, 3, 5, 20, 6, 9]\n",
      "-> j의 min_index : 4, origin_list : [-7, 3, 5, 6, 20, 9]\n",
      "i의 min_index : 4, origin_list : [-7, 3, 5, 6, 20, 9]\n",
      "-> j의 min_index : 5, origin_list : [-7, 3, 5, 6, 9, 20]\n",
      "i의 min_index : 5, origin_list : [-7, 3, 5, 6, 9, 20]\n",
      "-> j의 min_index : 5, origin_list : [-7, 3, 5, 6, 9, 20]\n",
      "[-7, 3, 5, 6, 9, 20]\n"
     ]
    }
   ],
   "source": [
    "# 코드 복습 \n",
    "\n",
    "origin_list = [3, 6, 9, 20, -7, 5]\n",
    "\n",
    "for i in range(len(origin_list)):\n",
    "    \n",
    "    min_index = i\n",
    "    print(f\"i의 min_index : {min_index}, \", end='')\n",
    "    print(f\"origin_list : {origin_list}\")\n",
    "    for j in range(i+1, len(origin_list)):\n",
    "        if origin_list[j] < origin_list[min_index]:\n",
    "            min_index = j\n",
    "    origin_list[i], origin_list[min_index] = origin_list[min_index], origin_list[i]\n",
    "    print(f\"-> j의 min_index : {min_index}, \", end='')\n",
    "    print(f\"origin_list : {origin_list}\")\n",
    "\n",
    "print(origin_list)"
   ]
  },
  {
   "cell_type": "markdown",
   "metadata": {},
   "source": [
    "7. 1-100 까지 숫자중 3과 5의 공배수일경우 \"3과 5의 공배수\", \n",
    "나머지 숫자중 3의 배수일경우 \"3의배수\", 나머지 숫자중 5의 배수일경우 \"5의배수\"\n",
    "모두 해당되지 않을경우 그냥숫자를 출력하세요."
   ]
  },
  {
   "cell_type": "code",
   "execution_count": 37,
   "metadata": {},
   "outputs": [
    {
     "name": "stdout",
     "output_type": "stream",
     "text": [
      "모두 해당되지 않을 경우 :[1]\n",
      "모두 해당되지 않을 경우 :[2]\n",
      "3의 공배수 :[3]\n",
      "모두 해당되지 않을 경우 :[4]\n",
      "5의 공배수 :[5]\n",
      "3의 공배수 :[6]\n",
      "모두 해당되지 않을 경우 :[7]\n",
      "모두 해당되지 않을 경우 :[8]\n",
      "3의 공배수 :[9]\n",
      "5의 공배수 :[10]\n",
      "모두 해당되지 않을 경우 :[11]\n",
      "3의 공배수 :[12]\n",
      "모두 해당되지 않을 경우 :[13]\n",
      "모두 해당되지 않을 경우 :[14]\n",
      "3과 5의 공배수 :[15]\n",
      "모두 해당되지 않을 경우 :[16]\n",
      "모두 해당되지 않을 경우 :[17]\n",
      "3의 공배수 :[18]\n",
      "모두 해당되지 않을 경우 :[19]\n",
      "5의 공배수 :[20]\n",
      "3의 공배수 :[21]\n",
      "모두 해당되지 않을 경우 :[22]\n",
      "모두 해당되지 않을 경우 :[23]\n",
      "3의 공배수 :[24]\n",
      "5의 공배수 :[25]\n",
      "모두 해당되지 않을 경우 :[26]\n",
      "3의 공배수 :[27]\n",
      "모두 해당되지 않을 경우 :[28]\n",
      "모두 해당되지 않을 경우 :[29]\n",
      "3과 5의 공배수 :[30]\n",
      "모두 해당되지 않을 경우 :[31]\n",
      "모두 해당되지 않을 경우 :[32]\n",
      "3의 공배수 :[33]\n",
      "모두 해당되지 않을 경우 :[34]\n",
      "5의 공배수 :[35]\n",
      "3의 공배수 :[36]\n",
      "모두 해당되지 않을 경우 :[37]\n",
      "모두 해당되지 않을 경우 :[38]\n",
      "3의 공배수 :[39]\n",
      "5의 공배수 :[40]\n",
      "모두 해당되지 않을 경우 :[41]\n",
      "3의 공배수 :[42]\n",
      "모두 해당되지 않을 경우 :[43]\n",
      "모두 해당되지 않을 경우 :[44]\n",
      "3과 5의 공배수 :[45]\n",
      "모두 해당되지 않을 경우 :[46]\n",
      "모두 해당되지 않을 경우 :[47]\n",
      "3의 공배수 :[48]\n",
      "모두 해당되지 않을 경우 :[49]\n",
      "5의 공배수 :[50]\n",
      "3의 공배수 :[51]\n",
      "모두 해당되지 않을 경우 :[52]\n",
      "모두 해당되지 않을 경우 :[53]\n",
      "3의 공배수 :[54]\n",
      "5의 공배수 :[55]\n",
      "모두 해당되지 않을 경우 :[56]\n",
      "3의 공배수 :[57]\n",
      "모두 해당되지 않을 경우 :[58]\n",
      "모두 해당되지 않을 경우 :[59]\n",
      "3과 5의 공배수 :[60]\n",
      "모두 해당되지 않을 경우 :[61]\n",
      "모두 해당되지 않을 경우 :[62]\n",
      "3의 공배수 :[63]\n",
      "모두 해당되지 않을 경우 :[64]\n",
      "5의 공배수 :[65]\n",
      "3의 공배수 :[66]\n",
      "모두 해당되지 않을 경우 :[67]\n",
      "모두 해당되지 않을 경우 :[68]\n",
      "3의 공배수 :[69]\n",
      "5의 공배수 :[70]\n",
      "모두 해당되지 않을 경우 :[71]\n",
      "3의 공배수 :[72]\n",
      "모두 해당되지 않을 경우 :[73]\n",
      "모두 해당되지 않을 경우 :[74]\n",
      "3과 5의 공배수 :[75]\n",
      "모두 해당되지 않을 경우 :[76]\n",
      "모두 해당되지 않을 경우 :[77]\n",
      "3의 공배수 :[78]\n",
      "모두 해당되지 않을 경우 :[79]\n",
      "5의 공배수 :[80]\n",
      "3의 공배수 :[81]\n",
      "모두 해당되지 않을 경우 :[82]\n",
      "모두 해당되지 않을 경우 :[83]\n",
      "3의 공배수 :[84]\n",
      "5의 공배수 :[85]\n",
      "모두 해당되지 않을 경우 :[86]\n",
      "3의 공배수 :[87]\n",
      "모두 해당되지 않을 경우 :[88]\n",
      "모두 해당되지 않을 경우 :[89]\n",
      "3과 5의 공배수 :[90]\n",
      "모두 해당되지 않을 경우 :[91]\n",
      "모두 해당되지 않을 경우 :[92]\n",
      "3의 공배수 :[93]\n",
      "모두 해당되지 않을 경우 :[94]\n",
      "5의 공배수 :[95]\n",
      "3의 공배수 :[96]\n",
      "모두 해당되지 않을 경우 :[97]\n",
      "모두 해당되지 않을 경우 :[98]\n",
      "3의 공배수 :[99]\n",
      "5의 공배수 :[100]\n"
     ]
    }
   ],
   "source": [
    "num_list = []\n",
    "rest_list = []\n",
    "list_3 = []\n",
    "list_5 = []\n",
    "list_15 = []\n",
    "list_0 = []\n",
    "\n",
    "for i in range (1, 101):\n",
    "    num_list.append(i)\n",
    "# print(num_list)\n",
    "\n",
    "for j in num_list :\n",
    "    if (j % 15) == 0 :\n",
    "        rest_list.append(j)\n",
    "        list_15 = rest_list\n",
    "        print(\"3과 5의 공배수 :{}\".format(list_15))\n",
    "        rest_list.remove(j)\n",
    "    elif  j % 3 == 0 :\n",
    "        rest_list.append(j)\n",
    "        list_3 = rest_list\n",
    "        print(\"3의 공배수 :{}\".format(list_3))\n",
    "        rest_list.remove(j)\n",
    "    elif j % 5 == 0 :\n",
    "        rest_list.append(j)\n",
    "        list_5 = rest_list\n",
    "        print(\"5의 공배수 :{}\".format(list_5))\n",
    "        rest_list.remove(j)\n",
    "    else :\n",
    "        rest_list.append(j)\n",
    "        list_0 = rest_list\n",
    "        print(\"모두 해당되지 않을 경우 :{}\".format(list_0))\n",
    "        rest_list.remove(j)\n",
    "\n",
    "        \n",
    "        \n",
    "        \n"
   ]
  },
  {
   "cell_type": "code",
   "execution_count": 39,
   "metadata": {},
   "outputs": [
    {
     "name": "stdout",
     "output_type": "stream",
     "text": [
      "3의 배수 : [3, 6, 9, 12, 18, 21, 24, 27, 33, 36, 39, 42, 48, 51, 54, 57, 63, 66, 69, 72, 78, 81, 84, 87, 93, 96, 99]\n",
      "5의 배수 : [5, 10, 20, 25, 35, 40, 50, 55, 65, 70, 80, 85, 95, 100]\n",
      "15의 공배수 : [15, 30, 45, 60, 75, 90]\n",
      "나머지 숫자 : [1, 2, 4, 7, 8, 11, 13, 14, 16, 17, 19, 22, 23, 26, 28, 29, 31, 32, 34, 37, 38, 41, 43, 44, 46, 47, 49, 52, 53, 56, 58, 59, 61, 62, 64, 67, 68, 71, 73, 74, 76, 77, 79, 82, 83, 86, 88, 89, 91, 92, 94, 97, 98]\n"
     ]
    }
   ],
   "source": [
    "# 코드 간단하게 정리\n",
    "\n",
    "list_3 = []    # 3의 배수를 저장할 리스트\n",
    "list_5 = []    # 5의 배수를 저장할 리스트\n",
    "list_15 = []   # 15의 공배수를 저장할 리스트\n",
    "list_0 = []    # 나머지 숫자를 저장할 리스트\n",
    "\n",
    "for i in range(1, 101):\n",
    "    if i % 15 == 0:\n",
    "        list_15.append(i)\n",
    "    elif i % 3 == 0:\n",
    "        list_3.append(i)\n",
    "    elif i % 5 == 0:\n",
    "        list_5.append(i)\n",
    "    else:\n",
    "        list_0.append(i)\n",
    "\n",
    "\n",
    "# 각 범주별로 결과 출력\n",
    "print(\"3의 배수 :\", list_3)\n",
    "print(\"5의 배수 :\", list_5)\n",
    "print(\"15의 공배수 :\", list_15)\n",
    "print(\"나머지 숫자 :\", list_0)\n",
    "\n"
   ]
  }
 ],
 "metadata": {
  "kernelspec": {
   "display_name": "base",
   "language": "python",
   "name": "python3"
  },
  "language_info": {
   "codemirror_mode": {
    "name": "ipython",
    "version": 3
   },
   "file_extension": ".py",
   "mimetype": "text/x-python",
   "name": "python",
   "nbconvert_exporter": "python",
   "pygments_lexer": "ipython3",
   "version": "3.11.4"
  }
 },
 "nbformat": 4,
 "nbformat_minor": 2
}
