{
 "cells": [
  {
   "cell_type": "markdown",
   "metadata": {},
   "source": [
    "1. 사용자로부터 숫자를 계속 입력받다가 0을 입력하면 합계를 출력해주세요."
   ]
  },
  {
   "cell_type": "code",
   "execution_count": 5,
   "metadata": {},
   "outputs": [
    {
     "name": "stdout",
     "output_type": "stream",
     "text": [
      "합계는?  9\n"
     ]
    }
   ],
   "source": [
    "sum = 0\n",
    "i = 1\n",
    "\n",
    "while i != 0:\n",
    "    i = int(input(\"값을 입력해주세요 : \"))\n",
    "    sum += i\n",
    "\n",
    "print(\"합계는? \", sum)\n",
    "\n"
   ]
  },
  {
   "cell_type": "markdown",
   "metadata": {},
   "source": [
    "2. 가위바위보 게임 만들기"
   ]
  },
  {
   "cell_type": "code",
   "execution_count": 9,
   "metadata": {},
   "outputs": [
    {
     "name": "stdout",
     "output_type": "stream",
     "text": [
      "0.8294487438011449\n",
      "1\n"
     ]
    }
   ],
   "source": [
    "# import 모듈 사용법\n",
    "\n",
    "import random\n",
    "\n",
    "print(random.random())\n",
    "print(random.randint(1,3))"
   ]
  },
  {
   "cell_type": "code",
   "execution_count": 9,
   "metadata": {},
   "outputs": [
    {
     "name": "stdout",
     "output_type": "stream",
     "text": [
      "유저 : 1, 컴퓨터 : 3\n",
      "유저 : 2, 컴퓨터 : 1\n",
      "유저 : 3, 컴퓨터 : 1\n",
      "유저 : 1, 컴퓨터 : 1\n",
      "유저 : 2, 컴퓨터 : 1\n",
      "유저 : 3, 컴퓨터 : 2\n",
      "유저 : 4, 컴퓨터 : 3\n",
      "게임종료 (전체:7, 승리:4)\n"
     ]
    }
   ],
   "source": [
    "import random\n",
    "\n",
    "all_cnt = 0  # 전체 게임 횟수\n",
    "win_cnt = 0  # 승리 횟수\n",
    "\n",
    "i = None  # 사용자의 입력을 저장할 변수, 초기값을 None으로 설정\n",
    "\n",
    "# 사용자가 0을 입력할 때까지 게임을 계속 진행\n",
    "while i != 0:\n",
    "    i = int(input(\"가위(1), 바위(2), 보(3) 을 입력해주세요 (게임 종료는 0): \"))\n",
    "    if i == 0:  # 사용자가 0을 입력한 경우 게임 종료\n",
    "        break  # while 루프 종료\n",
    "\n",
    "    j = random.randint(1,3)  # 컴퓨터의 선택 (1: 가위, 2: 바위, 3: 보)\n",
    "    print(f\"유저 : {i}, 컴퓨터 : {j}\")\n",
    "    all_cnt += 1  # 게임 횟수 증가\n",
    "\n",
    "    # 승리 조건 검사\n",
    "    if ((i == 1)and(j == 3)) or ((i == 2)and(j == 1)) or ((i == 3)and(j == 2)):\n",
    "        win_cnt += 1  # 승리 횟수 증가\n",
    "\n",
    "# 게임이 종료되면 결과 출력\n",
    "print(f\"게임종료 (전체:{all_cnt}, 승리:{win_cnt})\")\n"
   ]
  },
  {
   "cell_type": "code",
   "execution_count": null,
   "metadata": {},
   "outputs": [],
   "source": []
  }
 ],
 "metadata": {
  "kernelspec": {
   "display_name": "base",
   "language": "python",
   "name": "python3"
  },
  "language_info": {
   "codemirror_mode": {
    "name": "ipython",
    "version": 3
   },
   "file_extension": ".py",
   "mimetype": "text/x-python",
   "name": "python",
   "nbconvert_exporter": "python",
   "pygments_lexer": "ipython3",
   "version": "3.11.4"
  }
 },
 "nbformat": 4,
 "nbformat_minor": 2
}
