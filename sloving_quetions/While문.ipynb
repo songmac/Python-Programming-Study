{
 "cells": [
  {
   "cell_type": "markdown",
   "metadata": {},
   "source": [
    "1. 사용자로부터 숫자를 계속 입력받다가 0을 입력하면 합계를 출력해주세요."
   ]
  },
  {
   "cell_type": "code",
   "execution_count": 5,
   "metadata": {},
   "outputs": [
    {
     "name": "stdout",
     "output_type": "stream",
     "text": [
      "합계는?  9\n"
     ]
    }
   ],
   "source": [
    "sum = 0\n",
    "i = 1\n",
    "\n",
    "while i != 0:\n",
    "    i = int(input(\"값을 입력해주세요 : \"))\n",
    "    sum += i\n",
    "\n",
    "print(\"합계는? \", sum)\n",
    "\n"
   ]
  },
  {
   "cell_type": "markdown",
   "metadata": {},
   "source": [
    "2. 가위바위보 게임 만들기"
   ]
  },
  {
   "cell_type": "code",
   "execution_count": 9,
   "metadata": {},
   "outputs": [
    {
     "name": "stdout",
     "output_type": "stream",
     "text": [
      "0.8294487438011449\n",
      "1\n"
     ]
    }
   ],
   "source": [
    "# import 모듈 사용법\n",
    "\n",
    "import random\n",
    "\n",
    "print(random.random())\n",
    "print(random.randint(1,3))"
   ]
  },
  {
   "cell_type": "code",
   "execution_count": 9,
   "metadata": {},
   "outputs": [
    {
     "name": "stdout",
     "output_type": "stream",
     "text": [
      "유저 : 1, 컴퓨터 : 3\n",
      "유저 : 2, 컴퓨터 : 1\n",
      "유저 : 3, 컴퓨터 : 1\n",
      "유저 : 1, 컴퓨터 : 1\n",
      "유저 : 2, 컴퓨터 : 1\n",
      "유저 : 3, 컴퓨터 : 2\n",
      "유저 : 4, 컴퓨터 : 3\n",
      "게임종료 (전체:7, 승리:4)\n"
     ]
    }
   ],
   "source": [
    "\n",
    "import random\n",
    "\n",
    "i = 0\n",
    "all_cnt = 0\n",
    "win_cnt = 0\n",
    "\n",
    "while i < 4 :\n",
    "    i = int(input(\"가위(1), 바위(2), 보(3) 을 입력해주세요 : \"))\n",
    "    j = random.randint(1,3)\n",
    "\n",
    "    print(f\"유저 : {i}, 컴퓨터 : {j}\")\n",
    "    all_cnt += 1\n",
    "\n",
    "    if i != 4 :\n",
    "        if ((i == 1)and(j == 3)) or ((i == 2)and(j == 1)) or ((i == 3)and(j == 2)):\n",
    "            win_cnt += 1\n",
    "    else :\n",
    "        print(f\"게임종료 (전체:{all_cnt}, 승리:{win_cnt})\")\n",
    "\n",
    "    \n",
    "\n",
    "    "
   ]
  },
  {
   "cell_type": "code",
   "execution_count": null,
   "metadata": {},
   "outputs": [],
   "source": []
  }
 ],
 "metadata": {
  "kernelspec": {
   "display_name": "base",
   "language": "python",
   "name": "python3"
  },
  "language_info": {
   "codemirror_mode": {
    "name": "ipython",
    "version": 3
   },
   "file_extension": ".py",
   "mimetype": "text/x-python",
   "name": "python",
   "nbconvert_exporter": "python",
   "pygments_lexer": "ipython3",
   "version": "3.11.4"
  }
 },
 "nbformat": 4,
 "nbformat_minor": 2
}
