{
 "cells": [
  {
   "cell_type": "markdown",
   "metadata": {},
   "source": [
    "사용자로부터 변수 x, 변수 y 를 입력받아 더하고 곱하는 프로그램을 작성하세요. "
   ]
  },
  {
   "cell_type": "markdown",
   "metadata": {},
   "source": [
    "- 실행 \n",
    "    - x 값을 입력해주세요 : 20\n",
    "    - y 값을 입력해주세요 : 30"
   ]
  },
  {
   "cell_type": "code",
   "execution_count": 8,
   "metadata": {},
   "outputs": [
    {
     "name": "stdout",
     "output_type": "stream",
     "text": [
      "x + y = 50\n",
      "x * y = 600\n"
     ]
    }
   ],
   "source": [
    "x = int(input(\"x값을 입력해주세요: \"))\n",
    "y = int(input(\"y값을 입력해주세요: \"))\n",
    "\n",
    "print(f\"x + y = {x + y}\") # f-string으로 문자열을 형식화\n",
    "print(f\"x * y = {x * y}\") # print(\"x * y = \", {x * y}) 와 동일"
   ]
  }
 ],
 "metadata": {
  "kernelspec": {
   "display_name": "base",
   "language": "python",
   "name": "python3"
  },
  "language_info": {
   "codemirror_mode": {
    "name": "ipython",
    "version": 3
   },
   "file_extension": ".py",
   "mimetype": "text/x-python",
   "name": "python",
   "nbconvert_exporter": "python",
   "pygments_lexer": "ipython3",
   "version": "3.11.4"
  }
 },
 "nbformat": 4,
 "nbformat_minor": 2
}
