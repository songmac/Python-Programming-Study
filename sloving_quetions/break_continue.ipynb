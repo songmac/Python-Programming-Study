{
 "cells": [
  {
   "cell_type": "markdown",
   "metadata": {},
   "source": [
    "1. 아래 예시코드의 while문을 완성하여 사용자가 입력한 숫자만큼 출력해주세요. (break 사용)\n",
    ">>>\n",
    "    user = int(input(\"숫자를 입력하세요:\"))\n",
    "    cnt = 0\n",
    "    while True:\n",
    "        (여기 코드를 완성해주세요)"
   ]
  },
  {
   "cell_type": "code",
   "execution_count": 2,
   "metadata": {},
   "outputs": [
    {
     "name": "stdout",
     "output_type": "stream",
     "text": [
      "1\n",
      "2\n",
      "3\n",
      "4\n",
      "5\n",
      "6\n",
      "7\n",
      "8\n",
      "9\n",
      "10\n"
     ]
    }
   ],
   "source": [
    "user = int(input(\"숫자를 입력하세요:\"))\n",
    "cnt = 0\n",
    "while True:\n",
    "    cnt += 1\n",
    "    if (user+1) == cnt:\n",
    "        break\n",
    "    print(cnt)\n"
   ]
  },
  {
   "cell_type": "markdown",
   "metadata": {},
   "source": [
    "2. 아래 예시코드의 for문을 완성하여 사용자가 입력한 숫자까지의 작수를 출력해주세요. (continue 사용)\n",
    "\n",
    ">>>\n",
    "    user = int(input(\"숫자를 입력하세요:\"))\n",
    "    for i in range(user+1):\n",
    "        (여기 코드를 완성해주세요)\n",
    "        print(i)"
   ]
  },
  {
   "cell_type": "code",
   "execution_count": 3,
   "metadata": {},
   "outputs": [
    {
     "name": "stdout",
     "output_type": "stream",
     "text": [
      "0\n",
      "2\n",
      "4\n",
      "6\n",
      "8\n",
      "10\n"
     ]
    }
   ],
   "source": [
    "user = int(input(\"숫자를 입력하세요:\"))\n",
    "for i in range(user+1):\n",
    "    if (i % 2 == 1):\n",
    "        continue\n",
    "    print(i)"
   ]
  }
 ],
 "metadata": {
  "kernelspec": {
   "display_name": "base",
   "language": "python",
   "name": "python3"
  },
  "language_info": {
   "codemirror_mode": {
    "name": "ipython",
    "version": 3
   },
   "file_extension": ".py",
   "mimetype": "text/x-python",
   "name": "python",
   "nbconvert_exporter": "python",
   "pygments_lexer": "ipython3",
   "version": "3.11.4"
  }
 },
 "nbformat": 4,
 "nbformat_minor": 2
}
