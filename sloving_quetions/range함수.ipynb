{
 "cells": [
  {
   "cell_type": "markdown",
   "metadata": {},
   "source": [
    "range 함수를 이용하여 사용자가 입력한 수까지 2의 배수값을 넣은 리스트를 만들고 리스트의 맨 마지막에 사용자가 입력한 값을 추가해 주세요.\n",
    "\n",
    "- 실행1\n",
    "    - 숫자를 입력해주세요 : 10\n",
    "- 결과1\n",
    "    - [2, 4, 6, 8, 10, 10]\n",
    "\n",
    "- 실행2\n",
    "    - 숫자를 입력해주세요 : 20\n",
    "- 결과2\n",
    "    - [2, 4, 6, 8, 10, 12, 14, 16, 18, 20, 20]\n",
    "\n",
    "    \n"
   ]
  },
  {
   "cell_type": "code",
   "execution_count": 24,
   "metadata": {},
   "outputs": [
    {
     "name": "stdout",
     "output_type": "stream",
     "text": [
      "[2, 4, 6, 8, 10, 12, 14, 16, 18, 20, 20]\n"
     ]
    }
   ],
   "source": [
    "# 버전 1\n",
    "\n",
    "num = int(input(\"숫자를 입력해주세요 : \"))\n",
    "\n",
    "num_list = []\n",
    "for i in list(range(2, num+1, 2)):\n",
    "    num_list += [i]\n",
    "\n",
    "num_list += [num]\n",
    "\n",
    "print(num_list)"
   ]
  },
  {
   "cell_type": "code",
   "execution_count": 25,
   "metadata": {},
   "outputs": [
    {
     "name": "stdout",
     "output_type": "stream",
     "text": [
      "[2, 4, 6, 8, 10, 12, 14, 16, 18, 20, 22, 24, 26, 28, 30, 30]\n"
     ]
    }
   ],
   "source": [
    "# 버전 2\n",
    "\n",
    "num = int(input(\"숫자를 입력해주세요 : \"))\n",
    "\n",
    "# 2의 배수 리스트 생성 및 마지막에 num 추가\n",
    "num_list = [i for i in range(2, num+1, 2)] + [num]\n",
    "\n",
    "print(num_list)\n"
   ]
  }
 ],
 "metadata": {
  "kernelspec": {
   "display_name": "base",
   "language": "python",
   "name": "python3"
  },
  "language_info": {
   "codemirror_mode": {
    "name": "ipython",
    "version": 3
   },
   "file_extension": ".py",
   "mimetype": "text/x-python",
   "name": "python",
   "nbconvert_exporter": "python",
   "pygments_lexer": "ipython3",
   "version": "3.11.4"
  }
 },
 "nbformat": 4,
 "nbformat_minor": 2
}
