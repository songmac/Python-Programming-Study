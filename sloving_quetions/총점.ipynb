{
 "cells": [
  {
   "cell_type": "markdown",
   "metadata": {},
   "source": [
    "이름과 점수 3개를 입력받아 아래와 같이 출력하세요.\n",
    "\n",
    "- 실행\n",
    "    - 이름을 입력해 주세요 : 홍길동\n",
    "    - 첫번째 점수를 입력해 주세요 : 80\n",
    "    - 두번째 점수를 입력해 주세요 : 70\n",
    "    - 세번째 점수를 입력해 주세요 : 60\n",
    "- 결과\n",
    "    - 저의 이름은 홍길동 이고 총점은 210 입니다."
   ]
  },
  {
   "cell_type": "code",
   "execution_count": 1,
   "metadata": {},
   "outputs": [
    {
     "name": "stdout",
     "output_type": "stream",
     "text": [
      "저의 이름은 홍길동 이고 총점은 210 입니다.\n"
     ]
    }
   ],
   "source": [
    "name = input(\"이름을 입력해 주세요 : \")\n",
    "score1 = int(input(\"첫번째 점수를 입력해 주세요 : \"))\n",
    "score2 = int(input(\"두번째 점수를 입력해 주세요 : \"))\n",
    "score3 = int(input(\"세번째 점수를 입력해 주세요 : \"))\n",
    "sum = score1 + score2 + score3\n",
    "\n",
    "print(\"저의 이름은 {} 이고 총점은 {} 입니다.\".format(name, sum))\n"
   ]
  },
  {
   "cell_type": "code",
   "execution_count": null,
   "metadata": {},
   "outputs": [],
   "source": []
  }
 ],
 "metadata": {
  "kernelspec": {
   "display_name": "base",
   "language": "python",
   "name": "python3"
  },
  "language_info": {
   "codemirror_mode": {
    "name": "ipython",
    "version": 3
   },
   "file_extension": ".py",
   "mimetype": "text/x-python",
   "name": "python",
   "nbconvert_exporter": "python",
   "pygments_lexer": "ipython3",
   "version": "3.11.4"
  }
 },
 "nbformat": 4,
 "nbformat_minor": 2
}
