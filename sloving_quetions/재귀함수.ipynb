{
 "cells": [
  {
   "cell_type": "markdown",
   "metadata": {},
   "source": [
    "1. 양의정수 n을 인자로 받아, 1부터 n까지 합을 구하는 재귀함수 구현\n",
    "- 실행\n",
    "    - f_sum(5) : 15 "
   ]
  },
  {
   "cell_type": "code",
   "execution_count": 13,
   "metadata": {},
   "outputs": [
    {
     "name": "stdout",
     "output_type": "stream",
     "text": [
      "15\n"
     ]
    }
   ],
   "source": [
    "def f_sum(n):\n",
    "    result = []\n",
    "    for i in range(n, 0, -1):\n",
    "        result.append(i)\n",
    "    \n",
    "    return sum(result)\n",
    "\n",
    "print(f_sum(5))"
   ]
  },
  {
   "cell_type": "code",
   "execution_count": 38,
   "metadata": {},
   "outputs": [
    {
     "name": "stdout",
     "output_type": "stream",
     "text": [
      "15\n"
     ]
    }
   ],
   "source": [
    "def f_sum(num):\n",
    "    # 기저 조건: num이 0이면, 더 이상 더할 숫자가 없으므로 0을 반환\n",
    "    if num == 0:\n",
    "        return 0\n",
    "    \n",
    "    # 현재 숫자와 그 숫자를 1 감소시킨 다음, 그 결과의 합을 재귀적으로 계산\n",
    "    return num + f_sum(num - 1)\n",
    "\n",
    "# 함수를 호출하여 결과를 출력\n",
    "print(f_sum(5))"
   ]
  },
  {
   "cell_type": "markdown",
   "metadata": {},
   "source": [
    "2. 재귀함수를 이용해 숫자를 입력받아 가장높은 자리수부터 출력하세요\n",
    "- 실행\n",
    "    - f_number(1234)"
   ]
  },
  {
   "cell_type": "code",
   "execution_count": 74,
   "metadata": {},
   "outputs": [
    {
     "name": "stdout",
     "output_type": "stream",
     "text": [
      "1\n",
      "2\n",
      "3\n",
      "4\n"
     ]
    }
   ],
   "source": [
    "def f_number(n):\n",
    "    # 기저 조건: 숫자가 0이면 종료\n",
    "    if n == 0:\n",
    "        return\n",
    "    else:\n",
    "        # 다음 숫자를 재귀 호출 전에 먼저 출력하기 위해 현재 숫자의 가장 높은 자리수를 구함\n",
    "        # 가장 높은 자리수를 구하기 위해 10으로 나눈 몫을 사용\n",
    "        f_number(n // 10)\n",
    "        # 현재 자리의 숫자를 출력 (n % 10은 현재 자리의 숫자를 나타냄)\n",
    "        print(n % 10, end='')\n",
    "        print()\n",
    "\n",
    "# 함수 호출\n",
    "num = 1234\n",
    "f_number(num)\n"
   ]
  }
 ],
 "metadata": {
  "kernelspec": {
   "display_name": "base",
   "language": "python",
   "name": "python3"
  },
  "language_info": {
   "codemirror_mode": {
    "name": "ipython",
    "version": 3
   },
   "file_extension": ".py",
   "mimetype": "text/x-python",
   "name": "python",
   "nbconvert_exporter": "python",
   "pygments_lexer": "ipython3",
   "version": "3.11.5"
  }
 },
 "nbformat": 4,
 "nbformat_minor": 2
}
