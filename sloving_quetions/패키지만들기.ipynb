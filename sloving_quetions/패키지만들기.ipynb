{
 "cells": [
  {
   "cell_type": "markdown",
   "metadata": {},
   "source": [
    "아래와 같이 동작하는 pklist 패키지를 만드세요</br>\n",
    "</br>\n",
    "import pklist</br>\n",
    "</br>\n",
    "pklist.list_max([1,2,3],[5,6,7],[4,3,2,5,6])</br>\n",
    "결과 : 7</br>\n",
    "pklist.list_min([1,2,3],[5,6,7],[4,3,2,5,6])</br>\n",
    "결과 : 1</br>\n",
    "pklist.list_avg([1,2,3],[5,6,7],[4,3,2,5,6])</br>\n",
    "결과 : 4.0</br>"
   ]
  },
  {
   "cell_type": "code",
   "execution_count": 2,
   "metadata": {},
   "outputs": [
    {
     "name": "stdout",
     "output_type": "stream",
     "text": [
      "7\n",
      "1\n",
      "4.0\n"
     ]
    }
   ],
   "source": [
    "import pklist\n",
    "\n",
    "pklist.list_max([1,2,3],[5,6,7],[4,3,2,5,6])\n",
    "pklist.list_min([1,2,3],[5,6,7],[4,3,2,5,6])\n",
    "pklist.list_avg([1,2,3],[5,6,7],[4,3,2,5,6])\n"
   ]
  },
  {
   "cell_type": "code",
   "execution_count": null,
   "metadata": {},
   "outputs": [],
   "source": [
    "# pklist.py 내용\n",
    "\n",
    "\n",
    "import math as m\n",
    "\n",
    "def list_max(list1, list2, list3):\n",
    "    new_list = list1 + list2 + list3\n",
    "    print(max(new_list))\n",
    "\n",
    "def list_min(list1, list2, list3):\n",
    "    new_list = list1 + list2 + list3\n",
    "    print(min(new_list))\n",
    "\n",
    "def list_avg(list1, list2, list3):\n",
    "    new_list = list1 + list2 + list3\n",
    "    print(sum(new_list)/len(new_list))"
   ]
  }
 ],
 "metadata": {
  "kernelspec": {
   "display_name": "Python 3 (ipykernel)",
   "language": "python",
   "name": "python3"
  },
  "language_info": {
   "codemirror_mode": {
    "name": "ipython",
    "version": 3
   },
   "file_extension": ".py",
   "mimetype": "text/x-python",
   "name": "python",
   "nbconvert_exporter": "python",
   "pygments_lexer": "ipython3",
   "version": "3.11.5"
  }
 },
 "nbformat": 4,
 "nbformat_minor": 2
}
