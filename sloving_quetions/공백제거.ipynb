{
 "cells": [
  {
   "cell_type": "markdown",
   "metadata": {},
   "source": [
    "문자를 입력받아 공백을 모두 제거하고 출력하세요.\n",
    "- 실행\n",
    "    - 아무 문자나 입력해주세요 : 안녕하세요 반갑습니다.\n",
    "- 결과\n",
    "    - 안녕하세요반갑습니다.\n",
    "\n"
   ]
  },
  {
   "cell_type": "code",
   "execution_count": 11,
   "metadata": {},
   "outputs": [
    {
     "name": "stdout",
     "output_type": "stream",
     "text": [
      "안녕하세요.\n"
     ]
    }
   ],
   "source": [
    "# 입력받을 값이 있을 경우\n",
    "text = input(\"아무 문자나 입력해주세요 : \")\n",
    "text = text.replace(\" \", \"\") # strip() 는 현재 커널에서 제대로 작동하지 않아 사용\n",
    "print(text)"
   ]
  },
  {
   "cell_type": "code",
   "execution_count": 12,
   "metadata": {},
   "outputs": [
    {
     "name": "stdout",
     "output_type": "stream",
     "text": [
      "아무 문자나 입력해주세요 : 안 녕 하 세 요 .\n",
      "안녕하세요.\n",
      "아무 문자나 입력해주세요 : 안 녕 하 세 요 .\n",
      "안녕하세요.\n"
     ]
    }
   ],
   "source": [
    "# 입력받을 값이 없을 경우\n",
    "## f-string 사용\n",
    "text = \"안 녕 하 세 요 .\"\n",
    "print(f\"아무 문자나 입력해주세요 : %s\" % text)\n",
    "print(text.replace(\" \", \"\"))\n",
    "\n",
    "\n",
    "## .format() 사용\n",
    "text = \"안 녕 하 세 요 .\"\n",
    "print(\"아무 문자나 입력해주세요 : {}\".format(text))\n",
    "print(text.replace(\" \", \"\"))"
   ]
  }
 ],
 "metadata": {
  "kernelspec": {
   "display_name": "base",
   "language": "python",
   "name": "python3"
  },
  "language_info": {
   "codemirror_mode": {
    "name": "ipython",
    "version": 3
   },
   "file_extension": ".py",
   "mimetype": "text/x-python",
   "name": "python",
   "nbconvert_exporter": "python",
   "pygments_lexer": "ipython3",
   "version": "3.11.4"
  }
 },
 "nbformat": 4,
 "nbformat_minor": 2
}
