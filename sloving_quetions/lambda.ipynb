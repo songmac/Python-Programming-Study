{
 "cells": [
  {
   "cell_type": "markdown",
   "metadata": {},
   "source": [
    "1. numbers = [12, 32, 55, 12, 32, 4, 86, 50] 리스트에서 60보다 크면 합격 50~60점까지는 대기, 50보다 작으면 불합격이 들어간 리스트를 만드세요. (람다와 map 이용)"
   ]
  },
  {
   "cell_type": "code",
   "execution_count": 3,
   "metadata": {},
   "outputs": [
    {
     "name": "stdout",
     "output_type": "stream",
     "text": [
      "['불합격', '불합격', '불합격', '불합격', '불합격', '불합격', '합격', '불합격']\n"
     ]
    }
   ],
   "source": [
    "numbers = [12, 32, 55, 12, 32, 4, 86, 50]\n",
    "\n",
    "result = list(map(lambda x:'합격' if x>60 else '불합격', numbers))\n",
    "print(result)"
   ]
  },
  {
   "cell_type": "markdown",
   "metadata": {},
   "source": [
    "2. 파일명이 들어가있는 다음 리스트에서 files = [\"memo.txt\", \"1.jpg\", \"32.png\", \"23.jpg\", \"223.jpg\"] 리스트에서 확장자가 jpg인 파일만 골라내 리스트를 만드세요. (람다와 filter 이용)"
   ]
  },
  {
   "cell_type": "code",
   "execution_count": 7,
   "metadata": {},
   "outputs": [
    {
     "name": "stdout",
     "output_type": "stream",
     "text": [
      "['1.jpg', '23.jpg', '223.jpg']\n"
     ]
    }
   ],
   "source": [
    "files = [\"memo.txt\", \"1.jpg\", \"32.png\", \"23.jpg\", \"223.jpg\"]\n",
    "result = list(filter(lambda x: \"jpg\" in x, files))\n",
    "print(result)\n"
   ]
  }
 ],
 "metadata": {
  "kernelspec": {
   "display_name": "base",
   "language": "python",
   "name": "python3"
  },
  "language_info": {
   "codemirror_mode": {
    "name": "ipython",
    "version": 3
   },
   "file_extension": ".py",
   "mimetype": "text/x-python",
   "name": "python",
   "nbconvert_exporter": "python",
   "pygments_lexer": "ipython3",
   "version": "3.11.5"
  }
 },
 "nbformat": 4,
 "nbformat_minor": 2
}
