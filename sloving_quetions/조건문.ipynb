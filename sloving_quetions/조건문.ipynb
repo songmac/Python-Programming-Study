{
 "cells": [
  {
   "cell_type": "markdown",
   "metadata": {},
   "source": [
    "1. 사용자로부터 점수를 3개 입력받아 모든 점수가 65점보다 클 경우 합격, 아닐경우 불합격을 출력하세요. 단, 0~100이 아닌 숫자가 입력된 경우 잘못된 \"잘못된 점수가 입력되었습니다.\"를 출력하세요."
   ]
  },
  {
   "cell_type": "code",
   "execution_count": 7,
   "metadata": {},
   "outputs": [
    {
     "name": "stdout",
     "output_type": "stream",
     "text": [
      "불합격\n"
     ]
    }
   ],
   "source": [
    "x = int(input(\"첫번째 점수를 입력해주세요 :\"))\n",
    "y = int(input(\"두번째 점수를 입력해주세요 :\"))\n",
    "z = int(input(\"세번째 점수를 입력해주세요 :\"))\n",
    "\n",
    "if 0 <= x & y & z <= 100:\n",
    "    if x & y & z > 65:\n",
    "        print(\"합격\")\n",
    "    else:\n",
    "        print(\"불합격\")\n",
    "else:\n",
    "    print(\"잘못된 점수가 입력되었습니다.\")"
   ]
  },
  {
   "cell_type": "markdown",
   "metadata": {},
   "source": [
    "2. fruit = ['사과', '오렌지'], vegetable = ['당근', '호박']\n",
    "위와 같은 리스트 두개를 만들고 유저로부터 카테고리와 상품명을 입력받아\n",
    "카테고리가 과일일때는 fruit 리스트에, 카테고리가 채소일때는 vegetable 리스트에 상품을 추가하고 리스트의 모든 내용을 출력해주세요.\n",
    "단, 카테고리명이 채소나 과일이 아닐 경우 \"존재하지 않는 카테고리입니다.\"\n",
    "이미 등록되어있는 경우 \"이미등록된 과일입니다.\" or \"이미 등록된 채소입니다\"를 출력해주세요. "
   ]
  },
  {
   "cell_type": "code",
   "execution_count": 8,
   "metadata": {},
   "outputs": [
    {
     "name": "stdout",
     "output_type": "stream",
     "text": [
      "['사과', '오렌지', '멜론']\n"
     ]
    }
   ],
   "source": [
    "fruit_list = ['사과', '오렌지']\n",
    "vegetable_list = ['당근', '호박']\n",
    "\n",
    "\n",
    "cat = str(input(\"등록할 카테고리를 선택해주세요(과일, 채소): \"))\n",
    "\n",
    "if cat == \"과일\" :\n",
    "    fru = str(input(\"등록할 과일을 입력해주세요: \"))\n",
    "    if fru in fruit_list :\n",
    "        print(\"이미등록된 과일입니다.\")\n",
    "    else:\n",
    "        fruit_list.append(fru)\n",
    "        print(fruit_list)\n",
    "        \n",
    "elif cat == \"채소\" :\n",
    "    veg = str(input(\"등록할 채소를 입력해주세요: \"))\n",
    "    if veg in vegetable_list :\n",
    "        print(\"이미등록된 채소입니다.\")\n",
    "    else:\n",
    "        vegetable_list.append(veg)\n",
    "        print(vegetable_list)\n",
    "\n",
    "else :\n",
    "    print(\"존재하지 않는 카테고리입니다.\")\n",
    "    \n",
    "\n"
   ]
  }
 ],
 "metadata": {
  "kernelspec": {
   "display_name": "base",
   "language": "python",
   "name": "python3"
  },
  "language_info": {
   "codemirror_mode": {
    "name": "ipython",
    "version": 3
   },
   "file_extension": ".py",
   "mimetype": "text/x-python",
   "name": "python",
   "nbconvert_exporter": "python",
   "pygments_lexer": "ipython3",
   "version": "3.11.4"
  }
 },
 "nbformat": 4,
 "nbformat_minor": 2
}
