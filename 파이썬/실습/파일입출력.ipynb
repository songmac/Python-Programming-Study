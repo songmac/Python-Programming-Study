{
 "cells": [
  {
   "cell_type": "markdown",
   "metadata": {},
   "source": [
    "1. 가위바위보 게임 업그레이드\n",
    "- 이전에 만든 가위바위보 게임을 총 게임횟수와 승리횟수를 게임을 다시 실행해도 유지되도록 수정하세요"
   ]
  },
  {
   "cell_type": "code",
   "execution_count": 6,
   "metadata": {},
   "outputs": [
    {
     "name": "stdout",
     "output_type": "stream",
     "text": [
      "{'게임횟수': 7, '승리횟수': 5}\n"
     ]
    }
   ],
   "source": [
    "# while문.ipynb 참고\n",
    "with open(\"game_score.txt\", \"rb\") as file:\n",
    "    scores2 = pickle.load(file)\n",
    "\n",
    "print(scores2)\n",
    "\n",
    "import random\n",
    "import pickle\n",
    "\n",
    "i = 0\n",
    "all_cnt = 0\n",
    "win_cnt = 0\n",
    "\n",
    "while i < 4 :\n",
    "    i = int(input(\"가위(1), 바위(2), 보(3) 을 입력해주세요 : \"))\n",
    "    j = random.randint(1,3)\n",
    "\n",
    "    print(f\"유저 : {i}, 컴퓨터 : {j}\")\n",
    "    all_cnt += 1\n",
    "\n",
    "    if i != 4 :\n",
    "        if ((i == 1)and(j == 3)) or ((i == 2)and(j == 1)) or ((i == 3)and(j == 2)):\n",
    "            win_cnt += 1\n",
    "    else :\n",
    "        print(f\"게임종료 (총 게임횟수:{all_cnt}, 승리횟수:{win_cnt})\")\n",
    "\n",
    "\n",
    "\n",
    "\n",
    "\n",
    "# game_total = \"총 게임횟수\"\n",
    "# game_win = \"승리횟수\"\n",
    "        \n",
    "scores = {\"게임횟수\":all_cnt, \"승리횟수\":win_cnt}\n",
    "\n",
    "with open(\"game_score.txt\", \"wb\") as file:\n",
    "    pickle.dump(scores, file)\n",
    "\n",
    "\n",
    "\n",
    "\n",
    "\n",
    "    "
   ]
  }
 ],
 "metadata": {
  "kernelspec": {
   "display_name": "base",
   "language": "python",
   "name": "python3"
  },
  "language_info": {
   "codemirror_mode": {
    "name": "ipython",
    "version": 3
   },
   "file_extension": ".py",
   "mimetype": "text/x-python",
   "name": "python",
   "nbconvert_exporter": "python",
   "pygments_lexer": "ipython3",
   "version": "3.11.5"
  }
 },
 "nbformat": 4,
 "nbformat_minor": 2
}
