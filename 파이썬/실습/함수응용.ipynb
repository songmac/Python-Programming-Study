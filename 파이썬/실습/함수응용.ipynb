{
 "cells": [
  {
   "cell_type": "markdown",
   "metadata": {},
   "source": [
    "1. 가변인수와 고정인수를 사용해 모든값을 더하거나 곱하는 함수 작성\n",
    "- 실행\n",
    "    - calc(\"+\", 1, 2, 3, 4, 5) = 15\n",
    "    - calc(\"*\", 1, 2, 3, 4, 5) = 120\n"
   ]
  },
  {
   "cell_type": "code",
   "execution_count": 8,
   "metadata": {},
   "outputs": [
    {
     "name": "stdout",
     "output_type": "stream",
     "text": [
      "15\n",
      "120\n"
     ]
    }
   ],
   "source": [
    "def calc(cal_str, *nums):\n",
    "    \n",
    "    if cal_str == \"+\":\n",
    "        result = 0\n",
    "        for num in nums:\n",
    "            result +=num\n",
    "        print(result)\n",
    "        \n",
    "    elif cal_str == \"*\":\n",
    "        result = 1\n",
    "        for num in nums:\n",
    "            result *=num\n",
    "        print(result)\n",
    "\n",
    "calc(\"+\", 1,2,3,4,5)\n",
    "calc(\"*\", 1,2,3,4,5)"
   ]
  }
 ],
 "metadata": {
  "kernelspec": {
   "display_name": "base",
   "language": "python",
   "name": "python3"
  },
  "language_info": {
   "codemirror_mode": {
    "name": "ipython",
    "version": 3
   },
   "file_extension": ".py",
   "mimetype": "text/x-python",
   "name": "python",
   "nbconvert_exporter": "python",
   "pygments_lexer": "ipython3",
   "version": "3.11.5"
  }
 },
 "nbformat": 4,
 "nbformat_minor": 2
}
