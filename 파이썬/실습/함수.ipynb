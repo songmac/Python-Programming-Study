{
 "cells": [
  {
   "cell_type": "markdown",
   "metadata": {},
   "source": [
    "1. 리스트와 찾고싶은 값을 모두 입력하면 입력한 값의 인덱스(위치)를 리턴해주는 함수 만들기\n",
    "\n",
    "- 실행\n",
    "    - lis = [1,2,3,1,4,2,1]\n",
    "    - allindex(lis, 1)"
   ]
  },
  {
   "cell_type": "code",
   "execution_count": 15,
   "metadata": {},
   "outputs": [
    {
     "name": "stdout",
     "output_type": "stream",
     "text": [
      "[0, 3, 6]\n"
     ]
    }
   ],
   "source": [
    "def allindex(num_list, num):\n",
    "    result = []\n",
    "    for idx, val in enumerate(num_list) :\n",
    "        if val == num:\n",
    "            result.append(idx)   # result 변수에 None 값을 할당하면 안 되며, 대신 result 변수에 값을 추가하기만 하면 됨\n",
    "    print(result)\n",
    "\n",
    "lis = [1,2,3,1,4,2,1]      \n",
    "allindex(lis, 1)"
   ]
  }
 ],
 "metadata": {
  "kernelspec": {
   "display_name": "base",
   "language": "python",
   "name": "python3"
  },
  "language_info": {
   "codemirror_mode": {
    "name": "ipython",
    "version": 3
   },
   "file_extension": ".py",
   "mimetype": "text/x-python",
   "name": "python",
   "nbconvert_exporter": "python",
   "pygments_lexer": "ipython3",
   "version": "3.11.5"
  }
 },
 "nbformat": 4,
 "nbformat_minor": 2
}
