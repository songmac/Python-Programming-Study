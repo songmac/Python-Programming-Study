{
 "cells": [
  {
   "cell_type": "markdown",
   "metadata": {},
   "source": [
    "1. 아래 두 리스트를 곱해 새로운 리스트 C를 만드세요\n",
    "- a = [[10,20], [30,40], [50, 60]]\n",
    "- b = [[2,3], [4,5], [6,7]]"
   ]
  },
  {
   "cell_type": "code",
   "execution_count": 100,
   "metadata": {},
   "outputs": [
    {
     "name": "stdout",
     "output_type": "stream",
     "text": [
      "[[20, 60], [120, 200], [300, 420]]\n"
     ]
    }
   ],
   "source": [
    "a = [[10,20], [30,40], [50,60]]\n",
    "b = [[2,3], [4,5], [6,7]]\n",
    "\n",
    "\n",
    "c2 = []\n",
    "\n",
    "for i in range(len(a)): # 0, 1, 2\n",
    "\n",
    "    c1 = []\n",
    "    for j in range(len(b)-1): # 0, 1\n",
    "        result = a[i][j]*b[i][j]\n",
    "        c1.append(result)\n",
    "\n",
    "    c2.append(c1)\n",
    "print(c2)          "
   ]
  },
  {
   "cell_type": "markdown",
   "metadata": {},
   "source": [
    "2. 아래의 학습코드를 가지고 a 리스트가 [[1,2], [3,4], [5,6]]와 같이 만들어지도록 수정하세요.\n",
    ">>>\n",
    "    a = []\n",
    "    for i in range(3):\n",
    "        temp = []\n",
    "        for j in range(2):\n",
    "            temp.append(0)\n",
    "        a.append(temp)\n",
    "    print(a)"
   ]
  },
  {
   "cell_type": "code",
   "execution_count": 166,
   "metadata": {},
   "outputs": [
    {
     "name": "stdout",
     "output_type": "stream",
     "text": [
      "[[1, 2], [3, 4], [5, 6]]\n"
     ]
    }
   ],
   "source": [
    "a = []\n",
    "\n",
    "for i in range(1,6,2):\n",
    "    temp = []\n",
    "    for j in range(1,3,1):\n",
    "        continue\n",
    "    temp.extend([i,i+1])\n",
    "    a.append(temp)\n",
    "print(a)"
   ]
  },
  {
   "cell_type": "code",
   "execution_count": 167,
   "metadata": {},
   "outputs": [
    {
     "name": "stdout",
     "output_type": "stream",
     "text": [
      "[[1, 2], [3, 4], [5, 6]]\n"
     ]
    }
   ],
   "source": [
    "# 간결한 코드로 수정\n",
    "\n",
    "a = []\n",
    "for i in range(1, 6, 2):\n",
    "    temp = [i, i + 1]\n",
    "    a.append(temp)\n",
    "print(a)\n"
   ]
  }
 ],
 "metadata": {
  "kernelspec": {
   "display_name": "base",
   "language": "python",
   "name": "python3"
  },
  "language_info": {
   "codemirror_mode": {
    "name": "ipython",
    "version": 3
   },
   "file_extension": ".py",
   "mimetype": "text/x-python",
   "name": "python",
   "nbconvert_exporter": "python",
   "pygments_lexer": "ipython3",
   "version": "3.11.4"
  }
 },
 "nbformat": 4,
 "nbformat_minor": 2
}
