{
 "cells": [
  {
   "cell_type": "markdown",
   "metadata": {},
   "source": [
    "# 파이썬\n",
    "\n",
    "## 파이썬의 개념\n",
    "\n",
    "- 파이썬은 인간의 언어에 가까운 고급 언어\n",
    "- 귀도 반 로썸(Gudi Van Rossum)이 개발하였고, 그리스 신화에 나오는 뱀 이름에서 착안 \n",
    "- 이 같은 프로그래밍 언어를 사용하는 목적은 컴퓨터와 대화를 하기위함\n",
    "\n",
    "\n",
    "## 파이썬의 특징\n",
    "- 단순하고 간단\n",
    "- 방대한 라이브러리 보유\n",
    "- 무료에 어느 운영체제든 사용 가능"
   ]
  },
  {
   "cell_type": "markdown",
   "metadata": {},
   "source": [
    "\n",
    "\n",
    "# 아나콘다 \n",
    "\n",
    "## 아나콘다 가상환경 만들기\n",
    "- 가상환경 생성 코드\n",
    "    - conda create -n 가상환경이름 python = 버전\n",
    "- 가상환경 리스트\n",
    "    - conda info --envs\n",
    "- 가상환경 활성화\n",
    "    - conda activate study\n",
    "- 가상환경 비활성화\n",
    "    - conda deactivate"
   ]
  },
  {
   "cell_type": "code",
   "execution_count": null,
   "metadata": {},
   "outputs": [],
   "source": []
  }
 ],
 "metadata": {
  "language_info": {
   "name": "python"
  }
 },
 "nbformat": 4,
 "nbformat_minor": 2
}
